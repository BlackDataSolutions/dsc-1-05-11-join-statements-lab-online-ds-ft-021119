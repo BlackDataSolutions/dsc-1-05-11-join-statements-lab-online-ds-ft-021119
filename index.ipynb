{
 "cells": [
  {
   "cell_type": "markdown",
   "metadata": {},
   "source": [
    "# Join Statements - Lab\n",
    "\n",
    "## Introduction\n",
    "\n",
    "In this lab, you'll practice your knowledge on Join statements.\n",
    "\n",
    "## Objectives\n",
    "\n",
    "You will be able to:\n",
    "- Write queries that make use of various types of Joins\n",
    "- Join tables using foreign keys"
   ]
  },
  {
   "cell_type": "markdown",
   "metadata": {},
   "source": [
    "## CRM Schema\n",
    "\n",
    "In almost all cases, rather then just working with a single table we will typically need data from multiple tables. \n",
    "Doing this requires the use of **joins ** using shared columns from the two tables. \n",
    "\n",
    "In this lab, we'll use the same Customer Relationship Management (CRM) database we used in our lecture before!\n",
    "<img src='Database-Schema.png' width=550>"
   ]
  },
  {
   "cell_type": "markdown",
   "metadata": {},
   "source": [
    "## Connecting to the Database\n",
    "Import the necessary packages and connect to the database **data.sqlite**."
   ]
  },
  {
   "cell_type": "code",
   "execution_count": 1,
   "metadata": {},
   "outputs": [],
   "source": [
    "#Your code here\n",
    "import sqlite3\n",
    "import pandas as pd\n",
    "conn = sqlite3.connect('data.sqlite', detect_types=sqlite3.PARSE_COLNAMES)\n",
    "cur = conn.cursor()"
   ]
  },
  {
   "cell_type": "markdown",
   "metadata": {},
   "source": [
    "## Display the names of all the employees in Boston."
   ]
  },
  {
   "cell_type": "code",
   "execution_count": 2,
   "metadata": {},
   "outputs": [
    {
     "data": {
      "text/plain": [
       "[('Firrelli', 'Julie'), ('Patterson', 'Steve')]"
      ]
     },
     "execution_count": 2,
     "metadata": {},
     "output_type": "execute_result"
    }
   ],
   "source": [
    "#Your code here\n",
    "cur.execute('''SELECT lastName, firstName FROM employees JOIN offices USING(officeCode) WHERE city=\"Boston\";''')\n",
    "cur.fetchall()"
   ]
  },
  {
   "cell_type": "markdown",
   "metadata": {},
   "source": [
    "## Do any offices have no employees?"
   ]
  },
  {
   "cell_type": "code",
   "execution_count": 3,
   "metadata": {},
   "outputs": [
    {
     "data": {
      "text/html": [
       "<div>\n",
       "<style scoped>\n",
       "    .dataframe tbody tr th:only-of-type {\n",
       "        vertical-align: middle;\n",
       "    }\n",
       "\n",
       "    .dataframe tbody tr th {\n",
       "        vertical-align: top;\n",
       "    }\n",
       "\n",
       "    .dataframe thead th {\n",
       "        text-align: right;\n",
       "    }\n",
       "</style>\n",
       "<table border=\"1\" class=\"dataframe\">\n",
       "  <thead>\n",
       "    <tr style=\"text-align: right;\">\n",
       "      <th></th>\n",
       "      <th>0</th>\n",
       "      <th>1</th>\n",
       "    </tr>\n",
       "  </thead>\n",
       "  <tbody>\n",
       "    <tr>\n",
       "      <th>0</th>\n",
       "      <td>Boston</td>\n",
       "      <td>2</td>\n",
       "    </tr>\n",
       "    <tr>\n",
       "      <th>1</th>\n",
       "      <td>London</td>\n",
       "      <td>2</td>\n",
       "    </tr>\n",
       "    <tr>\n",
       "      <th>2</th>\n",
       "      <td>NYC</td>\n",
       "      <td>2</td>\n",
       "    </tr>\n",
       "    <tr>\n",
       "      <th>3</th>\n",
       "      <td>Paris</td>\n",
       "      <td>5</td>\n",
       "    </tr>\n",
       "    <tr>\n",
       "      <th>4</th>\n",
       "      <td>San Francisco</td>\n",
       "      <td>6</td>\n",
       "    </tr>\n",
       "  </tbody>\n",
       "</table>\n",
       "</div>"
      ],
      "text/plain": [
       "               0  1\n",
       "0         Boston  2\n",
       "1         London  2\n",
       "2            NYC  2\n",
       "3          Paris  5\n",
       "4  San Francisco  6"
      ]
     },
     "execution_count": 3,
     "metadata": {},
     "output_type": "execute_result"
    }
   ],
   "source": [
    "#Your code here\n",
    "cur.execute('''SELECT city, COUNT(*) FROM offices LEFT JOIN employees USING(OfficeCode) GROUP BY 1;''')\n",
    "df = pd.DataFrame(cur.fetchall())\n",
    "df.head()"
   ]
  },
  {
   "cell_type": "markdown",
   "metadata": {},
   "source": [
    "## Write 3 Questions of your own and answer them"
   ]
  },
  {
   "cell_type": "code",
   "execution_count": null,
   "metadata": {},
   "outputs": [],
   "source": [
    "# Answers will vary"
   ]
  },
  {
   "cell_type": "code",
   "execution_count": 7,
   "metadata": {},
   "outputs": [
    {
     "data": {
      "text/plain": [
       "[('Atelier graphique', '40.32.2555'),\n",
       " ('Signal Gift Stores', '7025551838'),\n",
       " ('Australian Collectors, Co.', '03 9520 4555'),\n",
       " ('La Rochelle Gifts', '40.67.8555'),\n",
       " ('Baane Mini Imports', '07-98 9555'),\n",
       " ('Mini Gifts Distributors Ltd.', '4155551450'),\n",
       " ('Havel & Zbyszek Co', '(26) 642-7555'),\n",
       " ('Blauer See Auto, Co.', '+49 69 66 90 2555'),\n",
       " ('Mini Wheels Co.', '6505555787'),\n",
       " ('Land of Toys Inc.', '2125557818'),\n",
       " ('Euro+ Shopping Channel', '(91) 555 94 44'),\n",
       " ('Volvo Model Replicas, Co', '0921-12 3555'),\n",
       " ('Danish Wholesale Imports', '31 12 3555'),\n",
       " ('Saveley & Henriot, Co.', '78.32.5555'),\n",
       " ('Dragon Souveniers, Ltd.', '+65 221 7555'),\n",
       " ('Muscle Machine Inc', '2125557413'),\n",
       " ('Diecast Classics Inc.', '2155551555'),\n",
       " ('Technics Stores Inc.', '6505556809'),\n",
       " ('Handji Gifts& Co', '+65 224 1555'),\n",
       " ('Herkku Gifts', '+47 2267 3215'),\n",
       " ('American Souvenirs Inc', '2035557845'),\n",
       " ('Porto Imports Co.', '(1) 356-5555'),\n",
       " ('Daedalus Designs Imports', '20.16.1555'),\n",
       " (\"La Corne D'abondance, Co.\", '(1) 42.34.2555'),\n",
       " ('Cambridge Collectables Co.', '6175555555'),\n",
       " ('Gift Depot Inc.', '2035552570'),\n",
       " ('Osaka Souveniers Co.', '+81 06 6342 5555'),\n",
       " ('Vitachrome Inc.', '2125551500'),\n",
       " ('Toys of Finland, Co.', '90-224 8555'),\n",
       " ('AV Stores, Co.', '(171) 555-1555'),\n",
       " ('Clover Collections, Co.', '+353 1862 1555'),\n",
       " ('Auto-Moto Classics Inc.', '6175558428'),\n",
       " ('UK Collectables, Ltd.', '(171) 555-2282'),\n",
       " ('Canadian Gift Exchange Network', '(604) 555-3392'),\n",
       " ('Online Mini Collectables', '6175557555'),\n",
       " ('Toys4GrownUps.com', '6265557265'),\n",
       " ('Asian Shopping Network, Co', '+612 9411 1555'),\n",
       " ('Mini Caravy', '88.60.1555'),\n",
       " ('King Kong Collectables, Co.', '+852 2251 1555'),\n",
       " ('Enaco Distributors', '(93) 203 4555'),\n",
       " ('Boards & Toys Co.', '3105552373'),\n",
       " ('Natürlich Autos', '0372-555188'),\n",
       " ('Heintze Collectables', '86 21 3555'),\n",
       " ('Québec Home Shopping Network', '(514) 555-8054'),\n",
       " ('ANG Resellers', '(91) 745 6555'),\n",
       " ('Collectable Mini Designs Co.', '7605558146'),\n",
       " ('giftsbymail.co.uk', '(198) 555-8888'),\n",
       " ('Alpha Cognac', '61.77.6555'),\n",
       " ('Messner Shopping Network', '069-0555984'),\n",
       " ('Amica Models & Co.', '011-4988555'),\n",
       " ('Lyon Souveniers', '+33 1 46 62 7555'),\n",
       " ('Auto Associés & Cie.', '30.59.8555'),\n",
       " ('Toms Spezialitäten, Ltd', '0221-5554327'),\n",
       " ('Royal Canadian Collectables, Ltd.', '(604) 555-4555'),\n",
       " ('Franken Gifts, Co', '089-0877555'),\n",
       " (\"Anna's Decorations, Ltd\", '02 9936 8555'),\n",
       " ('Rovelli Gifts', '035-640555'),\n",
       " ('Souveniers And Things Co.', '+61 2 9495 8555'),\n",
       " (\"Marta's Replicas Co.\", '6175558555'),\n",
       " ('BG&E Collectables', '+41 26 425 50 01'),\n",
       " ('Vida Sport, Ltd', '0897-034555'),\n",
       " ('Norway Gifts By Mail, Co.', '+47 2212 1555'),\n",
       " ('Schuyler Imports', '+31 20 491 9555'),\n",
       " ('Der Hund Imports', '030-0074555'),\n",
       " ('Oulu Toy Supplies, Inc.', '981-443655'),\n",
       " ('Petit Auto', '(02) 5554 67'),\n",
       " ('Mini Classics', '9145554562'),\n",
       " ('Mini Creations Ltd.', '5085559555'),\n",
       " ('Corporate Gift Ideas Co.', '6505551386'),\n",
       " ('Down Under Souveniers, Inc', '+64 9 312 5555'),\n",
       " ('Stylish Desk Decors, Co.', '(171) 555-0297'),\n",
       " ('Tekni Collectables Inc.', '2015559350'),\n",
       " ('Australian Gift Network, Co', '61-7-3844-6555'),\n",
       " ('Suominen Souveniers', '+358 9 8045 555'),\n",
       " ('Cramer Spezialitäten, Ltd', '0555-09555'),\n",
       " ('Classic Gift Ideas, Inc', '2155554695'),\n",
       " ('CAF Imports', '+34 913 728 555'),\n",
       " (\"Men 'R' US Retailers, Ltd.\", '2155554369'),\n",
       " ('Asian Treasures, Inc.', '2967 555'),\n",
       " ('Marseille Mini Autos', '91.24.4555'),\n",
       " ('Reims Collectables', '26.47.1555'),\n",
       " ('SAR Distributors, Co', '+27 21 550 3555'),\n",
       " ('GiftsForHim.com', '64-9-3763555'),\n",
       " ('Kommission Auto', '0251-555259'),\n",
       " ('Gifts4AllAges.com', '6175559555'),\n",
       " ('Online Diecast Creations Co.', '6035558647'),\n",
       " ('Lisboa Souveniers, Inc', '(1) 354-2555'),\n",
       " ('Precious Collectables', '0452-076555'),\n",
       " ('Collectables For Less Inc.', '6175558555'),\n",
       " ('Royale Belge', '(071) 23 67 2555'),\n",
       " ('Salzburg Collectables', '6562-9555'),\n",
       " ('Cruz & Sons Co.', '+63 2 555 3587'),\n",
       " (\"L'ordine Souveniers\", '0522-556555'),\n",
       " ('Tokyo Collectables, Ltd', '+81 3 3584 0555'),\n",
       " ('Auto Canal+ Petit', '(1) 47.55.6555'),\n",
       " ('Stuttgart Collectable Exchange', '0711-555361'),\n",
       " ('Extreme Desk Decorations, Ltd', '04 499 9555'),\n",
       " ('Bavarian Collectables Imports, Co.', ' +49 89 61 08 9555'),\n",
       " ('Classic Legends Inc.', '2125558493'),\n",
       " ('Feuer Online Stores, Inc', '0342-555176'),\n",
       " ('Gift Ideas Corp.', '2035554407'),\n",
       " ('Scandinavian Gift Ideas', '0695-34 6555'),\n",
       " ('The Sharp Gifts Warehouse', '4085553659'),\n",
       " ('Mini Auto Werke', '7675-3555'),\n",
       " ('Super Scale Inc.', '2035559545'),\n",
       " ('Microscale Inc.', '2125551957'),\n",
       " ('Corrida Auto Replicas, Ltd', '(91) 555 22 82'),\n",
       " ('Warburg Exchange', '0241-039123'),\n",
       " ('FunGiftIdeas.com', '5085552555'),\n",
       " ('Anton Designs, Ltd.', '+34 913 728555'),\n",
       " ('Australian Collectables, Ltd', '61-9-3844-6555'),\n",
       " ('Frau da Collezione', '+39 022515555'),\n",
       " ('West Coast Collectables Co.', '3105553722'),\n",
       " ('Mit Vergnügen & Co.', '0621-08555'),\n",
       " ('Kremlin Collectables, Co.', '+7 812 293 0521'),\n",
       " ('Raanan Stores, Inc', '+ 972 9 959 8555'),\n",
       " ('Iberia Gift Imports, Corp.', '(95) 555 82 82'),\n",
       " ('Motor Mint Distributors Inc.', '2155559857'),\n",
       " ('Signal Collectibles Ltd.', '4155554312'),\n",
       " ('Double Decker Gift Stores, Ltd', '(171) 555-7555'),\n",
       " ('Diecast Collectables', '6175552555'),\n",
       " (\"Kelly's Gift Shop\", '+64 9 5555500')]"
      ]
     },
     "execution_count": 7,
     "metadata": {},
     "output_type": "execute_result"
    }
   ],
   "source": [
    "# Your code here\n",
    "# Display the phone numbers of all customers\n",
    "cur.execute('''SELECT customerName, Phone FROM customers''').fetchall()"
   ]
  },
  {
   "cell_type": "code",
   "execution_count": 8,
   "metadata": {},
   "outputs": [
    {
     "data": {
      "text/plain": [
       "[('Min Lin Diecast', '1969 Harley Davidson Ultimate Chopper'),\n",
       " ('Classic Metal Creations', '1952 Alpine Renault 1300'),\n",
       " ('Highway 66 Mini Classics', '1996 Moto Guzzi 1100i'),\n",
       " ('Red Start Diecast', '2003 Harley-Davidson Eagle Drag Bike'),\n",
       " ('Motor City Art Classics', '1972 Alfa Romeo GTA'),\n",
       " ('Second Gear Diecast', '1962 LanciaA Delta 16V'),\n",
       " ('Autoart Studio Design', '1968 Ford Mustang'),\n",
       " ('Second Gear Diecast', '2001 Ferrari Enzo'),\n",
       " ('Welly Diecast Productions', '1958 Setra Bus'),\n",
       " ('Unimax Art Galleries', '2002 Suzuki XREO'),\n",
       " ('Welly Diecast Productions', '1969 Corvair Monza'),\n",
       " ('Welly Diecast Productions', '1968 Dodge Charger'),\n",
       " ('Second Gear Diecast', '1969 Ford Falcon'),\n",
       " ('Studio M Art Models', '1970 Plymouth Hemi Cuda'),\n",
       " ('Exoto Designs', '1957 Chevy Pickup'),\n",
       " ('Welly Diecast Productions', '1969 Dodge Charger'),\n",
       " ('Studio M Art Models', '1940 Ford Pickup Truck'),\n",
       " ('Highway 66 Mini Classics', '1993 Mazda RX-7'),\n",
       " ('Motor City Art Classics', '1937 Lincoln Berline'),\n",
       " ('Studio M Art Models', '1936 Mercedes-Benz 500K Special Roadster'),\n",
       " ('Classic Metal Creations', '1965 Aston Martin DB5'),\n",
       " ('Red Start Diecast', '1980s Black Hawk Helicopter'),\n",
       " ('Welly Diecast Productions', '1917 Grand Touring Sedan'),\n",
       " ('Gearbox Collectibles', '1948 Porsche 356-A Roadster'),\n",
       " ('Min Lin Diecast', '1995 Honda Civic'),\n",
       " ('Gearbox Collectibles', '1998 Chrysler Plymouth Prowler'),\n",
       " ('Motor City Art Classics', '1911 Ford Town Car'),\n",
       " ('Unimax Art Galleries', '1964 Mercedes Tour Bus'),\n",
       " ('Autoart Studio Design', '1932 Model A Ford J-Coupe'),\n",
       " ('Carousel DieCast Legends', '1926 Ford Fire Engine'),\n",
       " ('Gearbox Collectibles', 'P-51-D Mustang'),\n",
       " ('Welly Diecast Productions', '1936 Harley Davidson El Knucklehead'),\n",
       " ('Gearbox Collectibles', '1928 Mercedes-Benz SSK'),\n",
       " ('Red Start Diecast', '1999 Indy 500 Monte Carlo SS'),\n",
       " ('Carousel DieCast Legends', '1913 Ford Model T Speedster'),\n",
       " ('Min Lin Diecast', '1934 Ford V8 Coupe'),\n",
       " ('Min Lin Diecast', '1999 Yamaha Speed Boat'),\n",
       " ('Red Start Diecast', '18th Century Vintage Horse Carriage'),\n",
       " ('Unimax Art Galleries', '1903 Ford Model A'),\n",
       " ('Unimax Art Galleries', '1992 Ferrari 360 Spider red'),\n",
       " ('Highway 66 Mini Classics', '1985 Toyota Supra'),\n",
       " ('Carousel DieCast Legends', 'Collectable Wooden Train'),\n",
       " ('Min Lin Diecast', '1969 Dodge Super Bee'),\n",
       " ('Exoto Designs', '1917 Maxwell Touring Car'),\n",
       " ('Gearbox Collectibles', '1976 Ford Gran Torino'),\n",
       " ('Gearbox Collectibles', '1948 Porsche Type 356 Roadster'),\n",
       " ('Studio M Art Models', '1957 Vespa GS150'),\n",
       " ('Exoto Designs', '1941 Chevrolet Special Deluxe Cabriolet'),\n",
       " ('Min Lin Diecast', '1970 Triumph Spitfire'),\n",
       " ('Exoto Designs', '1932 Alfa Romeo 8C2300 Spider Sport'),\n",
       " ('Exoto Designs', '1904 Buick Runabout'),\n",
       " ('Motor City Art Classics', '1940s Ford truck'),\n",
       " ('Studio M Art Models', '1939 Cadillac Limousine'),\n",
       " ('Classic Metal Creations', '1957 Corvette Convertible'),\n",
       " ('Studio M Art Models', '1957 Ford Thunderbird'),\n",
       " ('Unimax Art Galleries', '1970 Chevy Chevelle SS 454'),\n",
       " ('Highway 66 Mini Classics', '1970 Dodge Coronet'),\n",
       " ('Autoart Studio Design', '1997 BMW R 1100 S'),\n",
       " ('Carousel DieCast Legends', '1966 Shelby Cobra 427 S/C'),\n",
       " ('Classic Metal Creations', '1928 British Royal Navy Airplane'),\n",
       " ('Motor City Art Classics', '1939 Chevrolet Deluxe Coupe'),\n",
       " ('Highway 66 Mini Classics', '1960 BSA Gold Star DBD34'),\n",
       " ('Carousel DieCast Legends', '18th century schooner'),\n",
       " ('Classic Metal Creations', '1938 Cadillac V-16 Presidential Limousine'),\n",
       " ('Autoart Studio Design', '1962 Volkswagen Microbus'),\n",
       " ('Highway 66 Mini Classics', '1982 Ducati 900 Monster'),\n",
       " ('Classic Metal Creations', '1949 Jaguar XK 120'),\n",
       " ('Carousel DieCast Legends', '1958 Chevy Corvette Limited Edition'),\n",
       " ('Autoart Studio Design', '1900s Vintage Bi-Plane'),\n",
       " ('Exoto Designs', '1952 Citroen-15CV'),\n",
       " ('Second Gear Diecast', '1982 Lamborghini Diablo'),\n",
       " ('Min Lin Diecast', '1912 Ford Model T Delivery Wagon'),\n",
       " ('Exoto Designs', '1969 Chevrolet Camaro Z28'),\n",
       " ('Welly Diecast Productions', '1971 Alpine Renault 1600s'),\n",
       " ('Autoart Studio Design', '1937 Horch 930V Limousine'),\n",
       " ('Gearbox Collectibles', '2002 Chevy Corvette'),\n",
       " ('Carousel DieCast Legends', '1940 Ford Delivery Sedan'),\n",
       " ('Classic Metal Creations', '1956 Porsche 356A Coupe'),\n",
       " ('Second Gear Diecast', 'Corsair F4U ( Bird Cage)'),\n",
       " ('Red Start Diecast', '1936 Mercedes Benz 500k Roadster'),\n",
       " ('Exoto Designs', '1992 Porsche Cayenne Turbo Silver'),\n",
       " ('Second Gear Diecast', '1936 Chrysler Airflow'),\n",
       " ('Unimax Art Galleries', '1900s Vintage Tri-Plane'),\n",
       " ('Classic Metal Creations', '1961 Chevrolet Impala'),\n",
       " ('Motor City Art Classics', '1980’s GM Manhattan Express'),\n",
       " ('Exoto Designs', '1997 BMW F650 ST'),\n",
       " ('Gearbox Collectibles', '1982 Ducati 996 R'),\n",
       " ('Classic Metal Creations', '1954 Greyhound Scenicruiser'),\n",
       " ('Gearbox Collectibles', \"1950's Chicago Surface Lines Streetcar\"),\n",
       " ('Red Start Diecast', '1996 Peterbilt 379 Stake Bed with Outrigger'),\n",
       " ('Highway 66 Mini Classics', '1928 Ford Phaeton Deluxe'),\n",
       " ('Second Gear Diecast', '1974 Ducati 350 Mk3 Desmo'),\n",
       " ('Studio M Art Models', '1930 Buick Marquette Phaeton'),\n",
       " ('Highway 66 Mini Classics', 'Diamond T620 Semi-Skirted Tanker'),\n",
       " ('Classic Metal Creations', '1962 City of Detroit Streetcar'),\n",
       " ('Autoart Studio Design', '2002 Yamaha YZR M1'),\n",
       " ('Autoart Studio Design', 'The Schooner Bluenose'),\n",
       " ('Min Lin Diecast', 'American Airlines: B767-300'),\n",
       " ('Studio M Art Models', 'The Mayflower'),\n",
       " ('Unimax Art Galleries', 'HMS Bounty'),\n",
       " ('Motor City Art Classics', 'America West Airlines B757-200'),\n",
       " ('Red Start Diecast', 'The USS Constitution Ship'),\n",
       " ('Carousel DieCast Legends', '1982 Camaro Z28'),\n",
       " ('Highway 66 Mini Classics', 'ATA: B757-300'),\n",
       " ('Motor City Art Classics', 'F/A 18 Hornet 1/72'),\n",
       " ('Carousel DieCast Legends', 'The Titanic'),\n",
       " ('Welly Diecast Productions', 'The Queen Mary'),\n",
       " ('Second Gear Diecast', 'American Airlines: MD-11S'),\n",
       " ('Motor City Art Classics', 'Boeing X-32A JSF'),\n",
       " ('Unimax Art Galleries', 'Pont Yacht')]"
      ]
     },
     "execution_count": 8,
     "metadata": {},
     "output_type": "execute_result"
    }
   ],
   "source": [
    "# Your code here\n",
    "# Display product vendor for each product line\n",
    "cur.execute('''SELECT productVendor, productName FROM products JOIN productlines USING(productLine);''')\n",
    "cur.fetchall()"
   ]
  },
  {
   "cell_type": "code",
   "execution_count": null,
   "metadata": {},
   "outputs": [],
   "source": [
    "# Your code here"
   ]
  },
  {
   "cell_type": "markdown",
   "metadata": {},
   "source": [
    "## Level Up: Display the names of each product each employee has sold."
   ]
  },
  {
   "cell_type": "code",
   "execution_count": 9,
   "metadata": {},
   "outputs": [
    {
     "name": "stdout",
     "output_type": "stream",
     "text": [
      "2996\n"
     ]
    },
    {
     "data": {
      "text/html": [
       "<div>\n",
       "<style scoped>\n",
       "    .dataframe tbody tr th:only-of-type {\n",
       "        vertical-align: middle;\n",
       "    }\n",
       "\n",
       "    .dataframe tbody tr th {\n",
       "        vertical-align: top;\n",
       "    }\n",
       "\n",
       "    .dataframe thead th {\n",
       "        text-align: right;\n",
       "    }\n",
       "</style>\n",
       "<table border=\"1\" class=\"dataframe\">\n",
       "  <thead>\n",
       "    <tr style=\"text-align: right;\">\n",
       "      <th></th>\n",
       "      <th>0</th>\n",
       "      <th>1</th>\n",
       "      <th>2</th>\n",
       "    </tr>\n",
       "  </thead>\n",
       "  <tbody>\n",
       "    <tr>\n",
       "      <th>0</th>\n",
       "      <td>Leslie</td>\n",
       "      <td>Jennings</td>\n",
       "      <td>1958 Setra Bus</td>\n",
       "    </tr>\n",
       "    <tr>\n",
       "      <th>1</th>\n",
       "      <td>Leslie</td>\n",
       "      <td>Jennings</td>\n",
       "      <td>1940 Ford Pickup Truck</td>\n",
       "    </tr>\n",
       "    <tr>\n",
       "      <th>2</th>\n",
       "      <td>Leslie</td>\n",
       "      <td>Jennings</td>\n",
       "      <td>1939 Cadillac Limousine</td>\n",
       "    </tr>\n",
       "    <tr>\n",
       "      <th>3</th>\n",
       "      <td>Leslie</td>\n",
       "      <td>Jennings</td>\n",
       "      <td>1996 Peterbilt 379 Stake Bed with Outrigger</td>\n",
       "    </tr>\n",
       "    <tr>\n",
       "      <th>4</th>\n",
       "      <td>Leslie</td>\n",
       "      <td>Jennings</td>\n",
       "      <td>1968 Ford Mustang</td>\n",
       "    </tr>\n",
       "  </tbody>\n",
       "</table>\n",
       "</div>"
      ],
      "text/plain": [
       "        0         1                                            2\n",
       "0  Leslie  Jennings                               1958 Setra Bus\n",
       "1  Leslie  Jennings                       1940 Ford Pickup Truck\n",
       "2  Leslie  Jennings                      1939 Cadillac Limousine\n",
       "3  Leslie  Jennings  1996 Peterbilt 379 Stake Bed with Outrigger\n",
       "4  Leslie  Jennings                            1968 Ford Mustang"
      ]
     },
     "execution_count": 9,
     "metadata": {},
     "output_type": "execute_result"
    }
   ],
   "source": [
    "# Your code here\n",
    "cur.execute(\"\"\"select firstName, lastName,\n",
    "                      productName\n",
    "                      from employees e\n",
    "                      join\n",
    "                      customers c\n",
    "                      on e.employeeNumber = c.salesRepEmployeeNumber\n",
    "                      join orders o\n",
    "                      using(customerNumber)\n",
    "                      join orderdetails od\n",
    "                      using(orderNumber)\n",
    "                      join products p\n",
    "                      using(productCode)\"\"\")\n",
    "df = pd.DataFrame(cur.fetchall())\n",
    "print(len(df))\n",
    "df.head()"
   ]
  },
  {
   "cell_type": "markdown",
   "metadata": {},
   "source": [
    "## Level Up: Display the Number of Products each Employee Has sold"
   ]
  },
  {
   "cell_type": "code",
   "execution_count": null,
   "metadata": {},
   "outputs": [],
   "source": [
    "#Your code here"
   ]
  },
  {
   "cell_type": "markdown",
   "metadata": {},
   "source": [
    "## Summary"
   ]
  },
  {
   "cell_type": "markdown",
   "metadata": {},
   "source": [
    "Congrats! You now know how to use Join statements, along with leveraging your foreign keys knowledge!"
   ]
  }
 ],
 "metadata": {
  "kernelspec": {
   "display_name": "Python 3",
   "language": "python",
   "name": "python3"
  },
  "language_info": {
   "codemirror_mode": {
    "name": "ipython",
    "version": 3
   },
   "file_extension": ".py",
   "mimetype": "text/x-python",
   "name": "python",
   "nbconvert_exporter": "python",
   "pygments_lexer": "ipython3",
   "version": "3.7.1"
  }
 },
 "nbformat": 4,
 "nbformat_minor": 2
}
